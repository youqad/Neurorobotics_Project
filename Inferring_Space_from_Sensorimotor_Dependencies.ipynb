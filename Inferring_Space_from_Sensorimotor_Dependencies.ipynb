{
  "nbformat": 4,
  "nbformat_minor": 0,
  "metadata": {
    "colab": {
      "name": "Inferring_Space_from_Sensorimotor_Dependencies.ipynb",
      "version": "0.3.2",
      "provenance": [],
      "collapsed_sections": []
    },
    "kernelspec": {
      "name": "python3",
      "display_name": "Python 3"
    }
  },
  "cells": [
    {
      "cell_type": "markdown",
      "metadata": {
        "id": "view-in-github",
        "colab_type": "text"
      },
      "source": [
        "[View in Colaboratory](https://colab.research.google.com/github/youqad/Neurorobotics_Project/blob/master/Inferring_Space_from_Sensorimotor_Dependencies.ipynb)"
      ]
    },
    {
      "metadata": {
        "id": "D6TQj1Jsbql6",
        "colab_type": "text"
      },
      "cell_type": "markdown",
      "source": [
        "# Inferring Space from Sensorimotor Dependencies"
      ]
    }
  ]
}