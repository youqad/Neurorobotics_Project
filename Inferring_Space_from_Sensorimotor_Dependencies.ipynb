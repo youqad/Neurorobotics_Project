{
  "nbformat": 4,
  "nbformat_minor": 0,
  "metadata": {
    "colab": {
      "name": "Inferring_Space_from_Sensorimotor_Dependencies.ipynb",
      "version": "0.3.2",
      "provenance": [],
      "collapsed_sections": []
    },
    "kernelspec": {
      "name": "python3",
      "display_name": "Python 3"
    }
  },
  "cells": [
    {
      "cell_type": "markdown",
      "metadata": {
        "id": "view-in-github",
        "colab_type": "text"
      },
      "source": [
        "[View in Colaboratory](https://colab.research.google.com/github/youqad/Neurorobotics_Project/blob/master/Inferring_Space_from_Sensorimotor_Dependencies.ipynb)"
      ]
    },
    {
      "metadata": {
        "id": "D6TQj1Jsbql6",
        "colab_type": "text"
      },
      "cell_type": "markdown",
      "source": [
        "# Inferring Space from Sensorimotor Dependencies\n",
        "\n",
        "\n",
        "## The Algorithm\n",
        "\n",
        "1. Proprioceptive input is separated from exteroceptive input by noting that proprioceptive input remains silent when no motor commands are given, whereas exteroceptive input changes because of environmental change.\n",
        "\n",
        "2. Estimation of the number of parameters needed to describe the variation in the exteroceptive inputs when only the environment changes. The algorithm issues no motor commands and calculates the covariance matrix of the observed environment-induced variations in sensory inputs. The dimension estimation is done by considering the eigenvalues of this covariance matrix. The eigenvalues $λ_i$ should fall into two classes: a class with values all equal to zero and a class with nonzero values. The two classes are separated by a clustering method (e.g. PCA). The number of nonzero eigenvalues is taken as the number of dimensions.\n",
        "\n",
        "3. Estimation of the number of parameters needed to describe the variation in the exteroceptive inputs when only the body moved. The environment is kept fixed, and the algorithm gives random motor commands. The covariance matrix of the resulting changes is observed and the dimension is estimated from the number of nonzero eigenvalues in the same way as before.\n",
        "\n",
        "4. Estimation of the number of parameters needed to describe the changes in exteroceptive inputs when both the body and the environment change. The environment is changed at random, and the organism gives random motor commands. The number of nonzero eigenvalues of the covariance matrix is obtained as before.\n",
        "\n",
        "## Simulation\n",
        "\n",
        "### Notations\n",
        "\n",
        "Notation|Meaning\n",
        "-|-\n",
        "$$Q ≝ (Q_1, \\ldots, Q_{3q})$$|positions of the joints\n",
        "$$P ≝ (P_1, \\ldots, P_{3p})$$|positions of the eyes\n",
        "$$a^θ_i, a^φ_i, a^ψ_i$$|Euler angles for the orientation of eye i\n",
        "$$Rot(a^θ_i, a^φ_i, a^ψ_i)$$|rotation matrix for eye i\n",
        "$$C_{i,k}$$|relative position of photosensor $k$ within eye $i$\n",
        "$$d ≝ (d_1, \\ldots,d_p)$$|apertures of diaphragms\n",
        "$$L ≝ (L_1,\\ldots,L_{3r})$$|positions of the lights\n",
        "$$θ ≝ (θ_1, \\ldots, θ_r)$$|luminances of the lights\n",
        "$$S^e_{i,k}$$|sensory input from exteroceptive sensor $k$ of eye $i$\n",
        "$$S^p_i$$|sensory input from proprioceptive sensor $i$\n",
        "$$M, E$$|motor command and environmental control vector\n",
        "\n",
        "\n",
        "### Computing the sensory inputs\n",
        "\n",
        "\n",
        "$$\n",
        "\\begin{align*}\n",
        "(Q,P,a) &≝ σ(W_1 · σ(W_2 · M − μ_2)−μ_1)\\\\\n",
        "L &≝ σ(V_1 ·σ(V_2 · E − ν_2) − ν_1)\\\\\n",
        "∀1≤ k ≤ p', 1≤i≤p, \\quad S^e_{i,k} &≝ d_i \\sum\\limits_{ j } \\frac{θ_j}{\\Vert P_i + Rot(a_i^θ, a_i^φ, a_i^ψ) \\cdot C_{i,k} - L_j \\Vert^2}\\\\\n",
        "(S^p_i)_{1≤ i ≤ q'q} &≝ σ(U_1 · σ(U_2 · Q − τ_2) − τ_1)\n",
        "\\end{align*}\n",
        "$$\n",
        "\n",
        "where\n",
        "\n",
        "- $W_1, W_2, V_1, V_2, U_1, U_2$ are matrices with coefficients drawn randomly from a uniform distribution between $−1$ and $1$\n",
        "- the vectors $μ_1, μ_2, ν_1, ν_2, τ_1, τ_2$ too\n",
        "- $σ$ is an arbitrary nonlinearity (e.g. the hyperbolic tangent function)\n",
        "- the $C_{i,k}$ are drawn from a centered normal distribution whose variance (which can be understood as the size of the retina) is so that the sensory changes resulting from a rotation of the eye are of the same order of magnitude as the ones resulting from a translation of the eye\n",
        "- $θ$ and $d$ are constants drawn at random in the interval $[0.5, 1]$\n"
      ]
    },
    {
      "metadata": {
        "id": "9HUFh3SFMFZl",
        "colab_type": "code",
        "colab": {
          "base_uri": "https://localhost:8080/",
          "height": 17
        },
        "outputId": "7f32f1a8-ed97-4da1-f350-35ad1ca858eb"
      },
      "cell_type": "code",
      "source": [
        "# /!\\ We're using Python 3\n",
        "\n",
        "import plotly\n",
        "import numpy as np\n",
        "import plotly.plotly as py\n",
        "import plotly.graph_objs as go\n",
        "\n",
        "import matplotlib.pyplot as plt\n",
        "from scipy.spatial import distance\n",
        "\n",
        "from sklearn import preprocessing\n",
        "\n",
        "%matplotlib inline\n",
        "\n",
        "plotly.offline.init_notebook_mode(connected=True)\n",
        "from IPython.core.display import display, HTML, Markdown\n",
        "# The polling here is to ensure that plotly.js has already been loaded before\n",
        "# setting display alignment in order to avoid a race condition.\n",
        "display(HTML(\n",
        "    '<script>'\n",
        "        'var waitForPlotly = setInterval( function() {'\n",
        "            'if( typeof(window.Plotly) !== \"undefined\" ){'\n",
        "                'MathJax.Hub.Config({ SVG: { font: \"STIX-Web\" }, displayAlign: \"center\" });'\n",
        "                'MathJax.Hub.Queue([\"setRenderer\", MathJax.Hub, \"SVG\"]);'\n",
        "                'clearInterval(waitForPlotly);'\n",
        "            '}}, 250 );'\n",
        "    '</script>'\n",
        "))\n",
        "\n",
        "# Colorscales\n",
        "def colorscale_list(cmap, number_colors, return_rgb_only=False):\n",
        "    cm = plt.get_cmap(cmap)\n",
        "    colors = [np.array(cm(i/number_colors)) for i in range(1, number_colors+1)]\n",
        "    rgb_colors_plotly = []\n",
        "    rgb_colors_only = []\n",
        "    for i, c in enumerate(colors):\n",
        "        col = 'rgb{}'.format(tuple(255*c[:-1]))\n",
        "        rgb_colors_only.append(col)\n",
        "        rgb_colors_plotly.append([i/number_colors, col])\n",
        "        rgb_colors_plotly.append([(i+1)/number_colors, col])\n",
        "    return rgb_colors_only if return_rgb_only else rgb_colors_plotly\n",
        "\n",
        "from scipy.io import loadmat, whosmat\n",
        "from numpy.random import randint\n",
        "\n",
        "def formatted(f): \n",
        "    return format(f, '.2f').rstrip('0').rstrip('.')"
      ],
      "execution_count": 1,
      "outputs": [
        {
          "output_type": "display_data",
          "data": {
            "text/html": [
              "<script>requirejs.config({paths: { 'plotly': ['https://cdn.plot.ly/plotly-latest.min']},});if(!window.Plotly) {{require(['plotly'],function(plotly) {window.Plotly=plotly;});}}</script>"
            ],
            "text/plain": [
              "<IPython.core.display.HTML object>"
            ]
          },
          "metadata": {
            "tags": []
          }
        },
        {
          "output_type": "display_data",
          "data": {
            "text/html": [
              "<script>var waitForPlotly = setInterval( function() {if( typeof(window.Plotly) !== \"undefined\" ){MathJax.Hub.Config({ SVG: { font: \"STIX-Web\" }, displayAlign: \"center\" });MathJax.Hub.Queue([\"setRenderer\", MathJax.Hub, \"SVG\"]);clearInterval(waitForPlotly);}}, 250 );</script>"
            ],
            "text/plain": [
              "<IPython.core.display.HTML object>"
            ]
          },
          "metadata": {
            "tags": []
          }
        }
      ]
    },
    {
      "metadata": {
        "id": "OBB1NorIxcHW",
        "colab_type": "text"
      },
      "cell_type": "markdown",
      "source": [
        "## Organism 1\n",
        "\n",
        "**Parameter**|**Value**\n",
        "-|-\n",
        "Dimension of motor commands|$40$\n",
        "Dimension of environmental control vector|$40$\n",
        "Dimension of proprioceptive inputs|$16 \\quad (= 4×4)$\n",
        "Dimension of exteroceptive inputs|$40 \\quad (= 2 × 20)$\n",
        "Number of eyes|$2$\n",
        "Number of joints|$4$\n",
        "Diaphragms|None\n",
        "Number of lights|$3$\n",
        "Light luminance|Fixed\n",
        "\n",
        "\n",
        "1. The arm has\n",
        "\n",
        "    - $4$ joints\n",
        "\n",
        "        - each of which has $4$ **proprioceptive** sensors (whose output depended on the position of the joint)\n",
        "    - $2$ eyes (for each of them: $3$ spatial and $3$ orientation coordinates)\n",
        "\n",
        "        - on which there are $20$ omnidirectionally sensitive photosensors (**exteroceptive**)\n",
        "2. the motor command is $40$-dimensional  \n",
        "\n",
        "3. the environment consists of:\n",
        "\n",
        "    - $3$ lights ($3$ spatial coordinates and $3$ luminance values for each of them)"
      ]
    },
    {
      "metadata": {
        "id": "egnFuT9Rt6q2",
        "colab_type": "code",
        "colab": {
          "base_uri": "https://localhost:8080/",
          "height": 136
        },
        "outputId": "e7e3e313-bbd7-4c6a-9ea5-4d7180b5d984"
      },
      "cell_type": "code",
      "source": [
        "!pip install -e git+https://github.com/youqad/Neurorobotics_Project.git#egg=sensorimotor_dependencies"
      ],
      "execution_count": 4,
      "outputs": [
        {
          "output_type": "stream",
          "text": [
            "Obtaining sensorimotor_dependencies from git+https://github.com/youqad/Neurorobotics_Project.git#egg=sensorimotor_dependencies\r\n",
            "  Updating ./src/sensorimotor-dependencies clone\n",
            "Installing collected packages: sensorimotor-dependencies\n",
            "  Found existing installation: sensorimotor-dependencies 0.0.1\n",
            "    Can't uninstall 'sensorimotor-dependencies'. No files were found to uninstall.\n",
            "  Running setup.py develop for sensorimotor-dependencies\n",
            "Successfully installed sensorimotor-dependencies\n"
          ],
          "name": "stdout"
        }
      ]
    },
    {
      "metadata": {
        "id": "m-r1DmXUt8V-",
        "colab_type": "code",
        "colab": {}
      },
      "cell_type": "code",
      "source": [
        "from sensorimotor_dependencies import organism1"
      ],
      "execution_count": 0,
      "outputs": []
    },
    {
      "metadata": {
        "id": "250iJKGB9yjy",
        "colab_type": "code",
        "colab": {}
      },
      "cell_type": "code",
      "source": [
        "#@title Parameters\n",
        "\n",
        "M_size = 40 #@param {type:\"slider\", min:10, max:100, step:5}\n",
        "E_size = 40 #@param {type:\"slider\", min:10, max:100, step:5}\n",
        "\n",
        "# Number of Joints / q\n",
        "nb_joints = 4 #@param {type:\"slider\", min:3, max:5, step:1}\n",
        "\n",
        "# Number of eyes / p\n",
        "nb_eyes = 2 #@param {type:\"slider\", min:2, max:5, step:1}\n",
        "\n",
        "# Number of lights / r\n",
        "nb_lights = 3 #@param {type:\"slider\", min:2, max:5, step:1}\n",
        "\n",
        "# Number of exteroceptive photosensors / p'\n",
        "extero = 20 #@param {type:\"slider\", min:15, max:25, step:1}\n",
        "\n",
        "# Number of proprioceptive sensors / q'\n",
        "proprio = 4 #@param {type:\"slider\", min:3, max:5, step:1}\n",
        "\n",
        "\n",
        "# Sensory inputs were generated from...\n",
        "nb_generating_motor_commands = 50 #@param {type:\"slider\", min:10, max:200, step:10}\n",
        "nb_generating_env_positions = 50 #@param {type:\"slider\", min:10, max:200, step:10}\n",
        "\n",
        "# Neighborhood size of the linear approximation:\n",
        "# Motor commands/Environmental positions drawn from normal distribution\n",
        "# with mean zero and standard deviation... \n",
        "neighborhood_size = 1e-8\n",
        "# (Coordinates differing from 0 by more than the std deviation are set equal to 0)\n",
        "\n",
        "sigma = np.tanh"
      ],
      "execution_count": 0,
      "outputs": []
    },
    {
      "metadata": {
        "id": "L7Dew8eyAZPN",
        "colab_type": "code",
        "colab": {
          "base_uri": "https://localhost:8080/",
          "height": 2737
        },
        "outputId": "e8f21415-13bd-4667-f186-de2bc091c877"
      },
      "cell_type": "code",
      "source": [
        "seed = 3\n",
        "sim = []\n",
        "\n",
        "for var in np.arange(.1, 16.1, .1):\n",
        "  val, bod, env, env_bod = Organism1(seed=seed, retina_size=var).get_dimensions()\n",
        "  print(\"var = {:.1f} / dim of compensated mov. = {} ({} {} {})\".format(var, val, bod, env, env_bod))\n",
        "  sim.append(val)\n",
        "\n",
        "sim = np.array(sim)\n",
        "best_sim = np.argmax(sim)"
      ],
      "execution_count": 25,
      "outputs": [
        {
          "output_type": "stream",
          "text": [
            "var = 0.1 / dim of compensated mov. = 0 (5 1 6)\n",
            "var = 0.2 / dim of compensated mov. = 0 (5 1 6)\n",
            "var = 0.3 / dim of compensated mov. = 0 (5 1 6)\n",
            "var = 0.4 / dim of compensated mov. = 0 (5 1 6)\n",
            "var = 0.5 / dim of compensated mov. = 0 (5 1 6)\n",
            "var = 0.6 / dim of compensated mov. = 0 (5 1 6)\n",
            "var = 0.7 / dim of compensated mov. = 0 (5 1 6)\n",
            "var = 0.8 / dim of compensated mov. = 0 (5 1 6)\n",
            "var = 0.9 / dim of compensated mov. = 0 (5 1 6)\n",
            "var = 1.0 / dim of compensated mov. = 0 (5 1 6)\n",
            "var = 1.1 / dim of compensated mov. = 0 (5 1 6)\n",
            "var = 1.2 / dim of compensated mov. = 0 (5 1 6)\n",
            "var = 1.3 / dim of compensated mov. = 0 (5 1 6)\n",
            "var = 1.4 / dim of compensated mov. = 0 (5 1 6)\n",
            "var = 1.5 / dim of compensated mov. = 0 (5 1 6)\n",
            "var = 1.6 / dim of compensated mov. = 0 (5 1 6)\n",
            "var = 1.7 / dim of compensated mov. = 0 (5 1 6)\n",
            "var = 1.8 / dim of compensated mov. = 0 (5 1 6)\n",
            "var = 1.9 / dim of compensated mov. = 0 (5 1 6)\n",
            "var = 2.0 / dim of compensated mov. = 0 (5 1 6)\n",
            "var = 2.1 / dim of compensated mov. = 0 (5 1 6)\n",
            "var = 2.2 / dim of compensated mov. = 0 (5 1 6)\n",
            "var = 2.3 / dim of compensated mov. = 0 (5 1 6)\n",
            "var = 2.4 / dim of compensated mov. = 0 (5 1 6)\n",
            "var = 2.5 / dim of compensated mov. = -5 (5 1 11)\n",
            "var = 2.6 / dim of compensated mov. = -5 (5 1 11)\n",
            "var = 2.7 / dim of compensated mov. = -5 (5 1 11)\n",
            "var = 2.8 / dim of compensated mov. = -5 (5 1 11)\n",
            "var = 2.9 / dim of compensated mov. = -5 (5 1 11)\n",
            "var = 3.0 / dim of compensated mov. = -5 (5 1 11)\n",
            "var = 3.1 / dim of compensated mov. = 5 (5 1 1)\n",
            "var = 3.2 / dim of compensated mov. = 5 (5 1 1)\n",
            "var = 3.3 / dim of compensated mov. = 5 (5 1 1)\n",
            "var = 3.4 / dim of compensated mov. = 1 (5 1 5)\n",
            "var = 3.5 / dim of compensated mov. = 1 (5 1 5)\n",
            "var = 3.6 / dim of compensated mov. = 1 (5 1 5)\n",
            "var = 3.7 / dim of compensated mov. = 1 (5 1 5)\n",
            "var = 3.8 / dim of compensated mov. = 1 (5 1 5)\n",
            "var = 3.9 / dim of compensated mov. = 1 (5 1 5)\n",
            "var = 4.0 / dim of compensated mov. = 1 (5 1 5)\n",
            "var = 4.1 / dim of compensated mov. = 2 (6 1 5)\n",
            "var = 4.2 / dim of compensated mov. = 2 (6 1 5)\n",
            "var = 4.3 / dim of compensated mov. = 2 (6 1 5)\n",
            "var = 4.4 / dim of compensated mov. = 2 (6 1 5)\n",
            "var = 4.5 / dim of compensated mov. = 2 (6 1 5)\n",
            "var = 4.6 / dim of compensated mov. = 2 (6 1 5)\n",
            "var = 4.7 / dim of compensated mov. = 1 (6 1 6)\n",
            "var = 4.8 / dim of compensated mov. = 1 (6 1 6)\n",
            "var = 4.9 / dim of compensated mov. = 1 (6 1 6)\n",
            "var = 5.0 / dim of compensated mov. = 1 (6 1 6)\n",
            "var = 5.1 / dim of compensated mov. = 1 (6 1 6)\n",
            "var = 5.2 / dim of compensated mov. = 1 (6 1 6)\n",
            "var = 5.3 / dim of compensated mov. = 1 (6 1 6)\n",
            "var = 5.4 / dim of compensated mov. = 1 (6 1 6)\n",
            "var = 5.5 / dim of compensated mov. = 1 (6 1 6)\n",
            "var = 5.6 / dim of compensated mov. = 1 (6 1 6)\n",
            "var = 5.7 / dim of compensated mov. = 1 (6 1 6)\n",
            "var = 5.8 / dim of compensated mov. = 1 (6 1 6)\n",
            "var = 5.9 / dim of compensated mov. = 1 (6 1 6)\n",
            "var = 6.0 / dim of compensated mov. = 1 (6 1 6)\n",
            "var = 6.1 / dim of compensated mov. = 1 (6 1 6)\n",
            "var = 6.2 / dim of compensated mov. = 3 (6 3 6)\n",
            "var = 6.3 / dim of compensated mov. = 3 (6 3 6)\n"
          ],
          "name": "stdout"
        },
        {
          "output_type": "stream",
          "text": [
            "var = 6.4 / dim of compensated mov. = 1 (6 1 6)\n",
            "var = 6.5 / dim of compensated mov. = 1 (6 1 6)\n",
            "var = 6.6 / dim of compensated mov. = 1 (6 1 6)\n",
            "var = 6.7 / dim of compensated mov. = 1 (6 1 6)\n",
            "var = 6.8 / dim of compensated mov. = 3 (6 3 6)\n",
            "var = 6.9 / dim of compensated mov. = 3 (6 3 6)\n",
            "var = 7.0 / dim of compensated mov. = 1 (6 1 6)\n",
            "var = 7.1 / dim of compensated mov. = 3 (6 3 6)\n",
            "var = 7.2 / dim of compensated mov. = 3 (6 3 6)\n",
            "var = 7.3 / dim of compensated mov. = 3 (6 3 6)\n",
            "var = 7.4 / dim of compensated mov. = 3 (6 3 6)\n",
            "var = 7.5 / dim of compensated mov. = 3 (6 3 6)\n",
            "var = 7.6 / dim of compensated mov. = 3 (6 3 6)\n",
            "var = 7.7 / dim of compensated mov. = 1 (6 1 6)\n",
            "var = 7.8 / dim of compensated mov. = 3 (6 3 6)\n",
            "var = 7.9 / dim of compensated mov. = 3 (6 3 6)\n",
            "var = 8.0 / dim of compensated mov. = 3 (6 3 6)\n",
            "var = 8.1 / dim of compensated mov. = 3 (6 3 6)\n",
            "var = 8.2 / dim of compensated mov. = 3 (6 3 6)\n",
            "var = 8.3 / dim of compensated mov. = 3 (6 3 6)\n",
            "var = 8.4 / dim of compensated mov. = 1 (6 1 6)\n",
            "var = 8.5 / dim of compensated mov. = 3 (6 3 6)\n",
            "var = 8.6 / dim of compensated mov. = 1 (6 1 6)\n",
            "var = 8.7 / dim of compensated mov. = 3 (6 3 6)\n",
            "var = 8.8 / dim of compensated mov. = 3 (6 3 6)\n",
            "var = 8.9 / dim of compensated mov. = 4 (7 3 6)\n",
            "var = 9.0 / dim of compensated mov. = 2 (7 1 6)\n",
            "var = 9.1 / dim of compensated mov. = 4 (7 3 6)\n",
            "var = 9.2 / dim of compensated mov. = 4 (7 3 6)\n",
            "var = 9.3 / dim of compensated mov. = 4 (7 3 6)\n",
            "var = 9.4 / dim of compensated mov. = 4 (7 3 6)\n",
            "var = 9.5 / dim of compensated mov. = 4 (7 3 6)\n",
            "var = 9.6 / dim of compensated mov. = 4 (7 3 6)\n",
            "var = 9.7 / dim of compensated mov. = 4 (7 3 6)\n",
            "var = 9.8 / dim of compensated mov. = 4 (7 3 6)\n",
            "var = 9.9 / dim of compensated mov. = 2 (7 1 6)\n",
            "var = 10.0 / dim of compensated mov. = 2 (7 1 6)\n",
            "var = 10.1 / dim of compensated mov. = 2 (7 1 6)\n",
            "var = 10.2 / dim of compensated mov. = 2 (7 1 6)\n",
            "var = 10.3 / dim of compensated mov. = 4 (7 3 6)\n",
            "var = 10.4 / dim of compensated mov. = 4 (7 3 6)\n",
            "var = 10.5 / dim of compensated mov. = 2 (7 1 6)\n",
            "var = 10.6 / dim of compensated mov. = 2 (7 1 6)\n",
            "var = 10.7 / dim of compensated mov. = 2 (7 1 6)\n",
            "var = 10.8 / dim of compensated mov. = 4 (7 3 6)\n",
            "var = 10.9 / dim of compensated mov. = 2 (7 1 6)\n",
            "var = 11.0 / dim of compensated mov. = 2 (7 1 6)\n",
            "var = 11.1 / dim of compensated mov. = 2 (7 1 6)\n",
            "var = 11.2 / dim of compensated mov. = 2 (7 1 6)\n",
            "var = 11.3 / dim of compensated mov. = 2 (7 1 6)\n",
            "var = 11.4 / dim of compensated mov. = 2 (7 1 6)\n",
            "var = 11.5 / dim of compensated mov. = 2 (7 1 6)\n",
            "var = 11.6 / dim of compensated mov. = 2 (7 1 6)\n",
            "var = 11.7 / dim of compensated mov. = 2 (7 1 6)\n",
            "var = 11.8 / dim of compensated mov. = 2 (7 1 6)\n",
            "var = 11.9 / dim of compensated mov. = 2 (7 1 6)\n",
            "var = 12.0 / dim of compensated mov. = 2 (7 1 6)\n",
            "var = 12.1 / dim of compensated mov. = 2 (7 1 6)\n",
            "var = 12.2 / dim of compensated mov. = 2 (7 1 6)\n",
            "var = 12.3 / dim of compensated mov. = 2 (7 1 6)\n",
            "var = 12.4 / dim of compensated mov. = 2 (7 1 6)\n",
            "var = 12.5 / dim of compensated mov. = 2 (7 1 6)\n",
            "var = 12.6 / dim of compensated mov. = 2 (7 1 6)\n"
          ],
          "name": "stdout"
        },
        {
          "output_type": "stream",
          "text": [
            "var = 12.7 / dim of compensated mov. = 2 (7 1 6)\n",
            "var = 12.8 / dim of compensated mov. = 2 (7 1 6)\n",
            "var = 12.9 / dim of compensated mov. = 2 (7 1 6)\n",
            "var = 13.0 / dim of compensated mov. = 2 (7 1 6)\n",
            "var = 13.1 / dim of compensated mov. = 2 (7 1 6)\n",
            "var = 13.2 / dim of compensated mov. = 2 (7 1 6)\n",
            "var = 13.3 / dim of compensated mov. = 2 (7 1 6)\n",
            "var = 13.4 / dim of compensated mov. = 2 (7 1 6)\n",
            "var = 13.5 / dim of compensated mov. = 2 (7 1 6)\n",
            "var = 13.6 / dim of compensated mov. = 2 (7 1 6)\n",
            "var = 13.7 / dim of compensated mov. = 2 (7 1 6)\n",
            "var = 13.8 / dim of compensated mov. = 2 (7 1 6)\n",
            "var = 13.9 / dim of compensated mov. = 2 (7 1 6)\n",
            "var = 14.0 / dim of compensated mov. = 2 (7 1 6)\n",
            "var = 14.1 / dim of compensated mov. = 2 (7 1 6)\n",
            "var = 14.2 / dim of compensated mov. = 2 (7 1 6)\n",
            "var = 14.3 / dim of compensated mov. = 2 (7 1 6)\n",
            "var = 14.4 / dim of compensated mov. = 2 (7 1 6)\n",
            "var = 14.5 / dim of compensated mov. = 2 (7 1 6)\n",
            "var = 14.6 / dim of compensated mov. = 2 (7 1 6)\n",
            "var = 14.7 / dim of compensated mov. = 2 (7 1 6)\n",
            "var = 14.8 / dim of compensated mov. = 2 (7 1 6)\n",
            "var = 14.9 / dim of compensated mov. = 2 (7 1 6)\n",
            "var = 15.0 / dim of compensated mov. = 2 (7 1 6)\n",
            "var = 15.1 / dim of compensated mov. = 2 (7 1 6)\n",
            "var = 15.2 / dim of compensated mov. = 2 (7 1 6)\n",
            "var = 15.3 / dim of compensated mov. = 2 (7 1 6)\n",
            "var = 15.4 / dim of compensated mov. = 2 (7 1 6)\n",
            "var = 15.5 / dim of compensated mov. = 2 (7 1 6)\n",
            "var = 15.6 / dim of compensated mov. = 2 (7 1 6)\n",
            "var = 15.7 / dim of compensated mov. = 2 (7 1 6)\n",
            "var = 15.8 / dim of compensated mov. = 2 (7 1 6)\n",
            "var = 15.9 / dim of compensated mov. = 2 (7 1 6)\n",
            "var = 16.0 / dim of compensated mov. = 2 (7 1 6)\n"
          ],
          "name": "stdout"
        }
      ]
    },
    {
      "metadata": {
        "id": "mnfEq252fcYZ",
        "colab_type": "code",
        "colab": {}
      },
      "cell_type": "code",
      "source": [
        "# Other Dimension Reduction Methods\n",
        "## LDA is not applicable for our data\n",
        "## Found codes for classical MDS so far -- \n",
        "## to be cordinated with our data\n",
        "\n",
        "from __future__ import division\n",
        "def mds(D):\n",
        "    \"\"\"                                                                                       \n",
        "    Classical multidimensional scaling (MDS)                                                  \n",
        "                                                                                               \n",
        "    Parameters                                                                                \n",
        "    ----------                                                                                \n",
        "    D : (n, n) array                                                                          \n",
        "        Symmetric distance matrix.                                                            \n",
        "                                                                                               \n",
        "    Returns                                                                                   \n",
        "    -------                                                                                   \n",
        "    Y : (n, p) array                                                                          \n",
        "        Configuration matrix. Each column represents a dimension. Only the                    \n",
        "        p dimensions corresponding to positive eigenvalues of B are returned.                 \n",
        "        Note that each dimension is only determined up to an overall sign,                    \n",
        "        corresponding to a reflection.                                                        \n",
        "                                                                                               \n",
        "    e : (n,) array                                                                            \n",
        "        Eigenvalues of B.                                                                     \n",
        "                                                                                               \n",
        "    \"\"\"\n",
        "    # Number of points                                                                        \n",
        "    n = len(D)\n",
        " \n",
        "    # Centering matrix                                                                        \n",
        "    H = np.eye(n) - np.ones((n, n))/n\n",
        " \n",
        "    # YY^T                                                                                    \n",
        "    B = -H.dot(D**2).dot(H)/2\n",
        " \n",
        "    # Diagonalize                                                                             \n",
        "    evals, evecs = np.linalg.eigh(B)\n",
        " \n",
        "    # Sort by eigenvalue in descending order                                                  \n",
        "    idx   = np.argsort(evals)[::-1]\n",
        "    evals = evals[idx]\n",
        "    evecs = evecs[:,idx]\n",
        " \n",
        "    # Compute the coordinates using positive-eigenvalued components only                      \n",
        "    w, = np.where(evals > 0)\n",
        "    L  = np.diag(np.sqrt(evals[w]))\n",
        "    V  = evecs[:,w]\n",
        "    Y  = V.dot(L)\n",
        " \n",
        "    return Y, evals\n",
        "\n",
        "\n",
        "#Autoencoder: https://github.com/asdspal/dimRed/blob/master/autoencoder.ipynb"
      ],
      "execution_count": 0,
      "outputs": []
    },
    {
      "metadata": {
        "id": "I-1IUv7yFdWU",
        "colab_type": "code",
        "colab": {}
      },
      "cell_type": "code",
      "source": [
        ""
      ],
      "execution_count": 0,
      "outputs": []
    }
  ]
}