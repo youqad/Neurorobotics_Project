{
  "nbformat": 4,
  "nbformat_minor": 0,
  "metadata": {
    "colab": {
      "name": "Inferring_Space_from_Sensorimotor_Dependencies.ipynb",
      "version": "0.3.2",
      "provenance": [],
      "collapsed_sections": []
    },
    "kernelspec": {
      "name": "python3",
      "display_name": "Python 3"
    }
  },
  "cells": [
    {
      "cell_type": "markdown",
      "metadata": {
        "id": "view-in-github",
        "colab_type": "text"
      },
      "source": [
        "[View in Colaboratory](https://colab.research.google.com/github/youqad/Neurorobotics_Project/blob/master/Inferring_Space_from_Sensorimotor_Dependencies.ipynb)"
      ]
    },
    {
      "metadata": {
        "id": "D6TQj1Jsbql6",
        "colab_type": "text"
      },
      "cell_type": "markdown",
      "source": [
        "# Inferring Space from Sensorimotor Dependencies\n",
        "\n",
        "\n",
        "## The Algorithm\n",
        "\n",
        "1. Proprioceptive input is separated from exteroceptive input by noting that proprioceptive input remains silent when no motor commands are given, whereas exteroceptive input changes because of environmental change.\n",
        "\n",
        "2. Estimation of the number of parameters needed to describe the variation in the exteroceptive inputs when only the environment changes. The algorithm issues no motor commands and calculates the covariance matrix of the observed environment-induced variations in sensory inputs. The dimension estimation is done by considering the eigenvalues of this covariance matrix. The eigenvalues $λ_i$ should fall into two classes: a class with values all equal to zero and a class with nonzero values. The two classes are separated by a clustering method (e.g. PCA). The number of nonzero eigenvalues is taken as the number of dimensions.\n",
        "\n",
        "3. Estimation of the number of parameters needed to describe the variation in the exteroceptive inputs when only the body moved. The environment is kept fixed, and the algorithm gives random motor commands. The covariance matrix of the resulting changes is observed and the dimension is estimated from the number of nonzero eigenvalues in the same way as before.\n",
        "\n",
        "4. Estimation of the number of parameters needed to describe the changes in exteroceptive inputs when both the body and the environment change. The environment is changed at random, and the organism gives random motor commands. The number of nonzero eigenvalues of the covariance matrix is obtained as before.\n",
        "\n",
        "\n",
        "## Simulation\n",
        "\n",
        "### Notations\n",
        "\n",
        "Notation|Meaning\n",
        "-|-\n",
        "$$Q ≝ (Q_1, \\ldots, Q_q)$$|positions of the joints\n",
        "$$P ≝ (P_1, \\ldots, P_p)$$|positions of the eyes\n",
        "$$a^θ_i, a^φ_i, a^ψ_i$$|Euler angles for the orientation of eye i\n",
        "$$Rot(a^θ_i, a^φ_i, a^ψ_i)$$|rotation matrix for eye i\n",
        "$$C_{i,k}$$|relative position of photosensor $k$ within eye $i$\n",
        "$$d ≝ (d_1, \\ldots,d_q)$$|apertures of diaphragms\n",
        "$$L ≝ (L_1,\\ldots,L_p)$$|positions of the lights\n",
        "$$θ ≝ (θ_1, \\ldots, θ_p)$$|luminances of the lights\n",
        "$$S^e{i,k}$$|sensory input from exteroceptive sensor $k$ of eye $i$\n",
        "$$S^i_p$$|sensory input from proprioceptive sensor $i$\n",
        "$$M, E$$|motor command and environmental control vector\n",
        "\n",
        "### Computing the motor commands\n",
        "\n",
        "\n",
        "$$\n",
        "\\begin{align*}\n",
        "(Q,P,a) &≝ σ(W_1 · σ(W_2 · M − μ_2)−μ_1)\\\\\n",
        "L &≝ σ(V_1 ·σ(V_2 · E − ν_2) − ν_1)\\\\\n",
        "S^e_{i,k} &≝ d_i \\sum\\limits_{ j } \\frac{θ_j}{\\Vert P_i + Rot(a_i^θ, a_i^φ, a_i^ψ) \\cdot C_{i,k} - L_j \\Vert^2}\\\\\n",
        "S^p_i &≝ σ(U_1 · σ(U_2 · M − τ_2) − τ_1)\n",
        "\\end{align*}\n",
        "$$\n",
        "\n",
        "where\n",
        "\n",
        "- $W_1, W_2, V_1, V_2, U_1, U_2$ are matrices with coefficients drawn randomly from a uniform distribution between $−1$ and $1$\n",
        "- the vectors $μ_1, μ_2, ν_1, ν_2, τ_1, τ_2$ too\n",
        "- $σ$ is an arbitrary nonlinearity (e.g. the hyperbolic tangent function)\n",
        "- the $C_{i,k}$ are drawn from a centered normal distribution whose variance (which can be understood as the size of the retina) is so that the sensory changes resulting from a rotation of the eye are of the same order of magnitude as the ones resulting from a translation of the eye\n",
        "- $θ$ and $d$ are constants drawn at random in the interval $[0.5, 1]$\n",
        "\n"
      ]
    },
    {
      "metadata": {
        "id": "OBB1NorIxcHW",
        "colab_type": "text"
      },
      "cell_type": "markdown",
      "source": [
        "## Organism 1\n",
        "\n",
        "**Characteristics**|**Value**\n",
        "-|-\n",
        "Dimensions of motor commands|40\n",
        "Dimensions of exteroceptive inputs|40\n",
        "Number of eyes|2\n",
        "Diaphragms|None\n",
        "Number of lights|3\n",
        "Light luminance|Fixed"
      ]
    },
    {
      "metadata": {
        "id": "250iJKGB9yjy",
        "colab_type": "code",
        "colab": {}
      },
      "cell_type": "code",
      "source": [
        "#@title Parameters\n",
        "\n",
        "M_size = 40 #@param {type:\"slider\", min:35, max:45, step:1}\n",
        "S_size = 40 #@param {type:\"slider\", min:35, max:45, step:1}\n",
        "\n",
        "# Number of Joints\n",
        "q = 4 #@param {type:\"slider\", min:3, max:5, step:1}\n",
        "\n",
        "# Number of eyes\n",
        "p = 2 #@param {type:\"slider\", min:2, max:5, step:1}\n",
        "\n",
        "# Number of photosensors\n",
        "K = 20 #@param {type:\"slider\", min:15, max:25, step:1}\n",
        "\n",
        "# Linear approximation in a neighborhood of size...\n",
        "neighborhood_size = 1e-8 #@param [1e-4, 1e-5, 1e-6, 1e-7, 1e-8, 1e-9]\n",
        "\n",
        "# Sensory inputs were generated from...\n",
        "nb_generating_motor_commands = 40 #@param {type:\"slider\", min:10, max:100, step:10}\n",
        "nb_generating_env_positions = 40 #@param {type:\"slider\", min:10, max:100, step:10}\n",
        "\n",
        "# Motor commands/Environmental positions drawn from normal distribution\n",
        "# with mean zero and standard deviation... \n",
        "std_deviation_generation = 1e-8 #@param [1e-7, 1e-8, 1e-9]\n",
        "# (Coordinates differing from 0 by more than the std deviation are set equal to 0)\n",
        "\n",
        "text = 'value' #@param"
      ],
      "execution_count": 0,
      "outputs": []
    }
  ]
}