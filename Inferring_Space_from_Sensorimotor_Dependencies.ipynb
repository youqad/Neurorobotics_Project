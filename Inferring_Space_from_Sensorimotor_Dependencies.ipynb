{
  "nbformat": 4,
  "nbformat_minor": 0,
  "metadata": {
    "colab": {
      "name": "Inferring_Space_from_Sensorimotor_Dependencies.ipynb",
      "version": "0.3.2",
      "provenance": [],
      "collapsed_sections": []
    },
    "kernelspec": {
      "name": "python3",
      "display_name": "Python 3"
    }
  },
  "cells": [
    {
      "cell_type": "markdown",
      "metadata": {
        "id": "view-in-github",
        "colab_type": "text"
      },
      "source": [
        "[View in Colaboratory](https://colab.research.google.com/github/youqad/Neurorobotics_Project/blob/master/Inferring_Space_from_Sensorimotor_Dependencies.ipynb)"
      ]
    },
    {
      "metadata": {
        "id": "D6TQj1Jsbql6",
        "colab_type": "text"
      },
      "cell_type": "markdown",
      "source": [
        "# Inferring Space from Sensorimotor Dependencies\n",
        "\n",
        "[![Documentation Status](https://readthedocs.org/projects/neurorobotics-project/badge/?version=latest)](https://neurorobotics-project.readthedocs.io/en/latest/?badge=latest)\n",
        "\n",
        "# Simulations\n"
      ]
    },
    {
      "metadata": {
        "id": "9HUFh3SFMFZl",
        "colab_type": "code",
        "colab": {
          "base_uri": "https://localhost:8080/",
          "height": 17
        },
        "outputId": "f4f338c9-613c-441c-8c7f-39d0642d1553"
      },
      "cell_type": "code",
      "source": [
        "# /!\\ We're using Python 3\n",
        "\n",
        "import plotly\n",
        "import numpy as np\n",
        "import plotly.plotly as py\n",
        "import plotly.graph_objs as go\n",
        "\n",
        "import matplotlib.pyplot as plt\n",
        "from scipy.spatial import distance\n",
        "\n",
        "from sklearn import preprocessing\n",
        "\n",
        "from __future__ import division\n",
        "\n",
        "%matplotlib inline\n",
        "\n",
        "plotly.offline.init_notebook_mode(connected=True)\n",
        "from IPython.core.display import display, HTML, Markdown\n",
        "# The polling here is to ensure that plotly.js has already been loaded before\n",
        "# setting display alignment in order to avoid a race condition.\n",
        "display(HTML(\n",
        "    '<script>'\n",
        "        'var waitForPlotly = setInterval( function() {'\n",
        "            'if( typeof(window.Plotly) !== \"undefined\" ){'\n",
        "                'MathJax.Hub.Config({ SVG: { font: \"STIX-Web\" }, displayAlign: \"center\" });'\n",
        "                'MathJax.Hub.Queue([\"setRenderer\", MathJax.Hub, \"SVG\"]);'\n",
        "                'clearInterval(waitForPlotly);'\n",
        "            '}}, 250 );'\n",
        "    '</script>'\n",
        "))\n",
        "\n",
        "# Colorscales\n",
        "def colorscale_list(cmap, number_colors, return_rgb_only=False):\n",
        "    cm = plt.get_cmap(cmap)\n",
        "    colors = [np.array(cm(i/number_colors)) for i in range(1, number_colors+1)]\n",
        "    rgb_colors_plotly = []\n",
        "    rgb_colors_only = []\n",
        "    for i, c in enumerate(colors):\n",
        "        col = 'rgb{}'.format(tuple(255*c[:-1]))\n",
        "        rgb_colors_only.append(col)\n",
        "        rgb_colors_plotly.append([i/number_colors, col])\n",
        "        rgb_colors_plotly.append([(i+1)/number_colors, col])\n",
        "    return rgb_colors_only if return_rgb_only else rgb_colors_plotly\n",
        "\n",
        "from scipy.io import loadmat, whosmat\n",
        "from numpy.random import randint\n",
        "\n",
        "def formatted(f): \n",
        "    return format(f, '.2f').rstrip('0').rstrip('.')"
      ],
      "execution_count": 1,
      "outputs": [
        {
          "output_type": "display_data",
          "data": {
            "text/html": [
              "<script>requirejs.config({paths: { 'plotly': ['https://cdn.plot.ly/plotly-latest.min']},});if(!window.Plotly) {{require(['plotly'],function(plotly) {window.Plotly=plotly;});}}</script>"
            ],
            "text/plain": [
              "<IPython.core.display.HTML object>"
            ]
          },
          "metadata": {
            "tags": []
          }
        },
        {
          "output_type": "display_data",
          "data": {
            "text/html": [
              "<script>var waitForPlotly = setInterval( function() {if( typeof(window.Plotly) !== \"undefined\" ){MathJax.Hub.Config({ SVG: { font: \"STIX-Web\" }, displayAlign: \"center\" });MathJax.Hub.Queue([\"setRenderer\", MathJax.Hub, \"SVG\"]);clearInterval(waitForPlotly);}}, 250 );</script>"
            ],
            "text/plain": [
              "<IPython.core.display.HTML object>"
            ]
          },
          "metadata": {
            "tags": []
          }
        }
      ]
    },
    {
      "metadata": {
        "id": "OBB1NorIxcHW",
        "colab_type": "text"
      },
      "cell_type": "markdown",
      "source": [
        "## Organism 1\n",
        "\n",
        "**Parameter**|**Value**\n",
        "-|-\n",
        "Dimension of motor commands|$40$\n",
        "Dimension of environmental control vector|$40$\n",
        "Dimension of proprioceptive inputs|$16 \\quad (= 4×4)$\n",
        "Dimension of exteroceptive inputs|$40 \\quad (= 2 × 20)$\n",
        "Number of eyes|$2$\n",
        "Number of joints|$4$\n",
        "Diaphragms|None\n",
        "Number of lights|$3$\n",
        "Light luminance|Fixed"
      ]
    },
    {
      "metadata": {
        "id": "egnFuT9Rt6q2",
        "colab_type": "code",
        "colab": {
          "base_uri": "https://localhost:8080/",
          "height": 187
        },
        "outputId": "127a429f-053d-420a-cf14-860db1875e67"
      },
      "cell_type": "code",
      "source": [
        "!pip install --force-reinstall git+https://github.com/youqad/Neurorobotics_Project.git#egg=sensorimotor_dependencies"
      ],
      "execution_count": 21,
      "outputs": [
        {
          "output_type": "stream",
          "text": [
            "Collecting sensorimotor_dependencies from git+https://github.com/youqad/Neurorobotics_Project.git#egg=sensorimotor_dependencies\r\n",
            "  Cloning https://github.com/youqad/Neurorobotics_Project.git to /tmp/pip-install-z8zwer1s/sensorimotor-dependencies\n",
            "Building wheels for collected packages: sensorimotor-dependencies\n",
            "  Running setup.py bdist_wheel for sensorimotor-dependencies ... \u001b[?25l-\b \bdone\n",
            "\u001b[?25h  Stored in directory: /tmp/pip-ephem-wheel-cache-rpxz67ih/wheels/55/44/c5/17ebe4a63673ffe2fd1d70e35a212ad7bf3302b4795b7348e5\n",
            "Successfully built sensorimotor-dependencies\n",
            "Installing collected packages: sensorimotor-dependencies\n",
            "  Found existing installation: sensorimotor-dependencies 0.0.1\n",
            "    Can't uninstall 'sensorimotor-dependencies'. No files were found to uninstall.\n",
            "Successfully installed sensorimotor-dependencies-0.0.1\n"
          ],
          "name": "stdout"
        }
      ]
    },
    {
      "metadata": {
        "id": "m-r1DmXUt8V-",
        "colab_type": "code",
        "colab": {}
      },
      "cell_type": "code",
      "source": [
        "from sensorimotor_dependencies import organisms\n",
        "\n",
        "organisms.Organism1(proprio=1, nb_joints=2, extero=1, nb_eyes=2).get_proprioception()"
      ],
      "execution_count": 0,
      "outputs": []
    },
    {
      "metadata": {
        "id": "250iJKGB9yjy",
        "colab_type": "code",
        "colab": {}
      },
      "cell_type": "code",
      "source": [
        "#@title Parameters\n",
        "\n",
        "M_size = 40 #@param {type:\"slider\", min:10, max:100, step:5}\n",
        "E_size = 40 #@param {type:\"slider\", min:10, max:100, step:5}\n",
        "\n",
        "# Number of Joints / q\n",
        "nb_joints = 4 #@param {type:\"slider\", min:3, max:5, step:1}\n",
        "\n",
        "# Number of eyes / p\n",
        "nb_eyes = 2 #@param {type:\"slider\", min:2, max:5, step:1}\n",
        "\n",
        "# Number of lights / r\n",
        "nb_lights = 3 #@param {type:\"slider\", min:2, max:5, step:1}\n",
        "\n",
        "# Number of exteroceptive photosensors / p'\n",
        "extero = 20 #@param {type:\"slider\", min:15, max:25, step:1}\n",
        "\n",
        "# Number of proprioceptive sensors / q'\n",
        "proprio = 4 #@param {type:\"slider\", min:3, max:5, step:1}\n",
        "\n",
        "\n",
        "# Sensory inputs were generated from...\n",
        "nb_generating_motor_commands = 50 #@param {type:\"slider\", min:10, max:200, step:10}\n",
        "nb_generating_env_positions = 50 #@param {type:\"slider\", min:10, max:200, step:10}\n",
        "\n",
        "# Neighborhood size of the linear approximation:\n",
        "# Motor commands/Environmental positions drawn from normal distribution\n",
        "# with mean zero and standard deviation... \n",
        "neighborhood_size = 1e-8\n",
        "# (Coordinates differing from 0 by more than the std deviation are set equal to 0)\n",
        "\n",
        "sigma = np.tanh"
      ],
      "execution_count": 0,
      "outputs": []
    },
    {
      "metadata": {
        "id": "L7Dew8eyAZPN",
        "colab_type": "code",
        "colab": {
          "base_uri": "https://localhost:8080/",
          "height": 170
        },
        "outputId": "bbcf7353-1f0d-4c4e-bf40-75d0c0e6edc3"
      },
      "cell_type": "code",
      "source": [
        "seed = 3\n",
        "sim = []\n",
        "\n",
        "for var in np.arange(.1, 1, .1):\n",
        "  val, bod, env, env_bod = organisms.Organism1(seed=seed, retina_size=var).get_dimensions()\n",
        "  print(\"var = {:.1f} / dim of compensated mov. = {} ({} {} {})\".format(var, val, bod, env, env_bod))\n",
        "  sim.append(val)\n",
        "\n",
        "sim = np.array(sim)\n",
        "best_sim = np.argmax(sim)"
      ],
      "execution_count": 25,
      "outputs": [
        {
          "output_type": "stream",
          "text": [
            "var = 0.1 / dim of compensated mov. = 0 (5 1 6)\n",
            "var = 0.2 / dim of compensated mov. = 0 (5 1 6)\n",
            "var = 0.3 / dim of compensated mov. = 0 (5 1 6)\n",
            "var = 0.4 / dim of compensated mov. = 0 (5 1 6)\n",
            "var = 0.5 / dim of compensated mov. = 0 (5 1 6)\n",
            "var = 0.6 / dim of compensated mov. = 0 (5 1 6)\n",
            "var = 0.7 / dim of compensated mov. = 0 (5 1 6)\n",
            "var = 0.8 / dim of compensated mov. = 0 (5 1 6)\n",
            "var = 0.9 / dim of compensated mov. = 0 (5 1 6)\n"
          ],
          "name": "stdout"
        }
      ]
    },
    {
      "metadata": {
        "id": "mnfEq252fcYZ",
        "colab_type": "code",
        "colab": {}
      },
      "cell_type": "code",
      "source": [
        "# Other Dimension Reduction Methods\n",
        "## LDA is not applicable for our data\n",
        "## Found codes for classical MDS so far -- \n",
        "## to be cordinated with our data\n",
        "\n",
        "\n",
        "#Autoencoder: https://github.com/asdspal/dimRed/blob/master/autoencoder.ipynb"
      ],
      "execution_count": 0,
      "outputs": []
    }
  ]
}