{
  "nbformat": 4,
  "nbformat_minor": 0,
  "metadata": {
    "colab": {
      "name": "Inferring_Space_from_Sensorimotor_Dependencies.ipynb",
      "version": "0.3.2",
      "provenance": [],
      "collapsed_sections": []
    },
    "kernelspec": {
      "name": "python3",
      "display_name": "Python 3"
    }
  },
  "cells": [
    {
      "cell_type": "markdown",
      "metadata": {
        "id": "view-in-github",
        "colab_type": "text"
      },
      "source": [
        "[View in Colaboratory](https://colab.research.google.com/github/youqad/Neurorobotics_Project/blob/master/Inferring_Space_from_Sensorimotor_Dependencies.ipynb)"
      ]
    },
    {
      "metadata": {
        "id": "D6TQj1Jsbql6",
        "colab_type": "text"
      },
      "cell_type": "markdown",
      "source": [
        "# Inferring Space from Sensorimotor Dependencies\n",
        "\n",
        "\n",
        "### The Algorithm\n",
        "\n",
        "1. Proprioceptive input is separated from exteroceptive input by noting that proprioceptive input remains silent when no motor commands are given, whereas exteroceptive input changes because of environmental change.\n",
        "\n",
        "2. Estimation of the number of parameters needed to describe the variation in the exteroceptive inputs when only the environment changes. The algorithm issues no motor commands and calculates the covariance matrix of the observed environment-induced variations in sensory inputs. The dimension estimation is done by considering the eigenvalues of this covariance matrix. The eigenvalues $λ_i$ should fall into two classes: a class with values all equal to zero and a class with nonzero values. The two classes are separated by a clustering method (e.g. PCA). The number of nonzero eigenvalues is taken as the number of dimensions.\n",
        "\n",
        "3. Estimation of the number of parameters needed to describe the variation in the exteroceptive inputs when only the body moved. The environment is kept fixed, and the algorithm gives random motor commands. The covariance matrix of the resulting changes is observed and the dimension is estimated from the number of nonzero eigenvalues in the same way as before.\n",
        "\n",
        "4. Estimation of the number of parameters needed to describe the changes in exteroceptive inputs when both the body and the environment change. The environment is changed at random, and the organism gives random motor commands. The number of nonzero eigenvalues of the covariance matrix is obtained as before.\n",
        "\n",
        "\n",
        "### Notations\n",
        "\n"
      ]
    },
    {
      "metadata": {
        "id": "OBB1NorIxcHW",
        "colab_type": "text"
      },
      "cell_type": "markdown",
      "source": [
        "## Organism 1\n",
        "\n",
        "**Characteristics**|**Value**\n",
        "-|-\n",
        "Dimensions of motor commands|40\n",
        "Dimensions of exteroceptive inputs|40\n",
        "Number of eyes|2\n",
        "Diaphragms|None\n",
        "Number of lights|3\n",
        "Light luminance|Fixed"
      ]
    }
  ]
}